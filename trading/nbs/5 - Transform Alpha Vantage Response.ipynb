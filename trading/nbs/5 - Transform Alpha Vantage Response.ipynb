{
 "cells": [
  {
   "cell_type": "code",
   "execution_count": 1,
   "id": "f037d501-ba41-4a68-ba0c-26bb0d9c4ef3",
   "metadata": {},
   "outputs": [],
   "source": [
    "from decouple import config"
   ]
  },
  {
   "cell_type": "code",
   "execution_count": 2,
   "id": "db49840c-4176-4433-b706-b26016eb50e2",
   "metadata": {},
   "outputs": [],
   "source": [
    "assert config(\"ALPHA_VANTAGE_API_KEY\", default=None, cast=str) is not None"
   ]
  },
  {
   "cell_type": "code",
   "execution_count": 3,
   "id": "e20f50e1-23d9-496c-a778-aeb8f2dd2957",
   "metadata": {},
   "outputs": [],
   "source": [
    "ALPHA_VANTAGE_API_KEY = config(\"ALPHA_VANTAGE_API_KEY\", default=None, cast=str)"
   ]
  },
  {
   "cell_type": "code",
   "execution_count": 4,
   "id": "5863d4d8-12d4-44e9-a83d-eef2898fde36",
   "metadata": {},
   "outputs": [],
   "source": [
    "import requests\n",
    "\n",
    "api_key = ALPHA_VANTAGE_API_KEY\n",
    "\n",
    "params = {\n",
    "    \"api_key\": ALPHA_VANTAGE_API_KEY,\n",
    "    \"ticker\": \"AAPL\",\n",
    "    \"function\": \"TIME_SERIES_INTRADAY\"\n",
    "}\n",
    "\n",
    "url = 'https://www.alphavantage.co/query?function={function}&symbol={ticker}&interval=1min&apikey={api_key}'.format(\n",
    "    **params\n",
    ")\n",
    "r = requests.get(url)\n",
    "data = r.json()"
   ]
  },
  {
   "cell_type": "code",
   "execution_count": 5,
   "id": "737ec526-24ea-45d8-9ba2-38780f524a78",
   "metadata": {},
   "outputs": [
    {
     "data": {
      "text/plain": [
       "'Time Series (1min)'"
      ]
     },
     "execution_count": 5,
     "metadata": {},
     "output_type": "execute_result"
    }
   ],
   "source": [
    "dataset_key = [x for x in list(data.keys()) if not x.lower() == \"meta data\"][0]\n",
    "dataset_key"
   ]
  },
  {
   "cell_type": "code",
   "execution_count": 6,
   "id": "29022f7a-9f92-456d-b678-be2f0b4ab565",
   "metadata": {},
   "outputs": [],
   "source": [
    "results = data[dataset_key] # dict\n",
    "# for timestamp_str in results.keys():\n",
    "#     print(timestamp_str, results.get(timestamp_str))"
   ]
  },
  {
   "cell_type": "code",
   "execution_count": 7,
   "id": "c999c561-57eb-4c41-b419-57657237a26a",
   "metadata": {},
   "outputs": [
    {
     "data": {
      "text/plain": [
       "'2024-11-22 19:59:00'"
      ]
     },
     "execution_count": 7,
     "metadata": {},
     "output_type": "execute_result"
    }
   ],
   "source": [
    "timestamp_str = list(results.keys())[0]\n",
    "timestamp_str"
   ]
  },
  {
   "cell_type": "code",
   "execution_count": 8,
   "id": "2ff29795-3630-46d6-9573-9e114fd790da",
   "metadata": {},
   "outputs": [
    {
     "data": {
      "text/plain": [
       "{'1. open': '229.9350',\n",
       " '2. high': '229.9500',\n",
       " '3. low': '229.9200',\n",
       " '4. close': '229.9350',\n",
       " '5. volume': '169'}"
      ]
     },
     "execution_count": 8,
     "metadata": {},
     "output_type": "execute_result"
    }
   ],
   "source": [
    "result_val = results.get(timestamp_str)\n",
    "result_val"
   ]
  },
  {
   "cell_type": "code",
   "execution_count": 9,
   "id": "68fad20b-a4f3-468a-b243-db1b48da5a6b",
   "metadata": {},
   "outputs": [],
   "source": [
    "import pytz\n",
    "from datetime import datetime\n",
    "from decimal import Decimal\n",
    "\n",
    "def transform_alpha_vantage_result(timestamp_str, result):\n",
    "    # unix_timestamp = result.get('t') / 1000.0\n",
    "    # utc_timestamp = datetime.fromtimestamp(unix_timestamp, tz=pytz.timezone('UTC'))\n",
    "    timestamp_format = '%Y-%m-%d %H:%M:%S' \n",
    "    eastern = pytz.timezone(\"US/Eastern\")\n",
    "    utc = pytz.utc\n",
    "    timestamp = eastern.localize(datetime.strptime(timestamp_str,timestamp_format)).astimezone(utc)\n",
    "    return {\n",
    "        'open_price': Decimal(result['1. open']),\n",
    "        'close_price': Decimal(result['4. close']),\n",
    "        'high_price': Decimal(result['2. high']),\n",
    "        'low_price': Decimal(result['3. low']),\n",
    "        'number_of_trades': None,\n",
    "        'volume': int(result['5. volume']),\n",
    "        'volume_weighted_average': None,\n",
    "        'time': timestamp,\n",
    "    }"
   ]
  },
  {
   "cell_type": "code",
   "execution_count": 10,
   "id": "b1284545-ebe6-4534-8644-d4d543a84c67",
   "metadata": {},
   "outputs": [
    {
     "data": {
      "text/plain": [
       "{'open_price': Decimal('229.9350'),\n",
       " 'close_price': Decimal('229.9350'),\n",
       " 'high_price': Decimal('229.9500'),\n",
       " 'low_price': Decimal('229.9200'),\n",
       " 'number_of_trades': None,\n",
       " 'volume': 169,\n",
       " 'volume_weighted_average': None,\n",
       " 'time': datetime.datetime(2024, 11, 23, 0, 59, tzinfo=<UTC>)}"
      ]
     },
     "execution_count": 10,
     "metadata": {},
     "output_type": "execute_result"
    }
   ],
   "source": [
    "transform_alpha_vantage_result(timestamp_str, result_val)"
   ]
  },
  {
   "cell_type": "code",
   "execution_count": null,
   "id": "7dbe0a89-9c92-4257-9da7-2f6252ec16f9",
   "metadata": {},
   "outputs": [],
   "source": [
    "for timestamp_str in results.keys():\n",
    "    new_data = transform_alpha_vantage_result(timestamp_str, results.get(timestamp_str))"
   ]
  },
  {
   "cell_type": "code",
   "execution_count": 12,
   "id": "8e90ef53-f4d3-4f5c-a6bd-578670009a88",
   "metadata": {},
   "outputs": [
    {
     "data": {
      "text/plain": [
       "{'open_price': Decimal('229.9100'),\n",
       " 'close_price': Decimal('229.9450'),\n",
       " 'high_price': Decimal('229.9450'),\n",
       " 'low_price': Decimal('229.9100'),\n",
       " 'number_of_trades': None,\n",
       " 'volume': 4,\n",
       " 'volume_weighted_average': None,\n",
       " 'time': datetime.datetime(2024, 11, 22, 23, 20, tzinfo=<UTC>)}"
      ]
     },
     "execution_count": 12,
     "metadata": {},
     "output_type": "execute_result"
    }
   ],
   "source": [
    "new_data"
   ]
  }
 ],
 "metadata": {
  "kernelspec": {
   "display_name": "Python 3 (ipykernel)",
   "language": "python",
   "name": "python3"
  },
  "language_info": {
   "codemirror_mode": {
    "name": "ipython",
    "version": 3
   },
   "file_extension": ".py",
   "mimetype": "text/x-python",
   "name": "python",
   "nbconvert_exporter": "python",
   "pygments_lexer": "ipython3",
   "version": "3.11.9"
  }
 },
 "nbformat": 4,
 "nbformat_minor": 5
}
