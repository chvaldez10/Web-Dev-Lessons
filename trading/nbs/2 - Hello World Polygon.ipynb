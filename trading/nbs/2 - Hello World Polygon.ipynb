{
 "cells": [
  {
   "cell_type": "code",
   "execution_count": 1,
   "id": "f037d501-ba41-4a68-ba0c-26bb0d9c4ef3",
   "metadata": {},
   "outputs": [],
   "source": [
    "from decouple import config"
   ]
  },
  {
   "cell_type": "code",
   "execution_count": 2,
   "id": "e20f50e1-23d9-496c-a778-aeb8f2dd2957",
   "metadata": {},
   "outputs": [],
   "source": [
    "assert config(\"POLOGYON_API_KEY\", default=None, cast=str) is not None"
   ]
  },
  {
   "cell_type": "code",
   "execution_count": 3,
   "id": "5863d4d8-12d4-44e9-a83d-eef2898fde36",
   "metadata": {},
   "outputs": [],
   "source": [
    "POLOGYON_API_KEY = config(\"POLOGYON_API_KEY\", default=None, cast=str)"
   ]
  },
  {
   "cell_type": "code",
   "execution_count": 4,
   "id": "501e7dec-eb21-4250-9591-dcc4ca458bff",
   "metadata": {},
   "outputs": [],
   "source": [
    "import requests"
   ]
  },
  {
   "cell_type": "code",
   "execution_count": 27,
   "id": "be67ddf1-6de0-4d1d-85af-20acdaca608f",
   "metadata": {},
   "outputs": [],
   "source": [
    "ticker = \"AAPL\"\n",
    "multiplier = \"5\"\n",
    "timespan = \"minute\"\n",
    "from_date = \"2023-01-09\"\n",
    "to_date = \"2023-01-09\"\n",
    "path = f\"/v2/aggs/ticker/{ticker}/range/{multiplier}/{timespan}/{from_date}/{to_date}\"\n",
    "url = f\"https://api.polygon.io{path}?apiKey={POLOGYON_API_KEY}\""
   ]
  },
  {
   "cell_type": "code",
   "execution_count": 28,
   "id": "b1927a2b-d7bf-4815-88da-fc416c19a3dc",
   "metadata": {},
   "outputs": [],
   "source": [
    "response = requests.get(url)"
   ]
  },
  {
   "cell_type": "code",
   "execution_count": 29,
   "id": "3be66e59-7e2a-456e-a752-94b61e664a7f",
   "metadata": {},
   "outputs": [],
   "source": [
    "data = response.json()"
   ]
  }
 ],
 "metadata": {
  "kernelspec": {
   "display_name": "Python 3 (ipykernel)",
   "language": "python",
   "name": "python3"
  },
  "language_info": {
   "codemirror_mode": {
    "name": "ipython",
    "version": 3
   },
   "file_extension": ".py",
   "mimetype": "text/x-python",
   "name": "python",
   "nbconvert_exporter": "python",
   "pygments_lexer": "ipython3",
   "version": "3.11.9"
  }
 },
 "nbformat": 4,
 "nbformat_minor": 5
}
