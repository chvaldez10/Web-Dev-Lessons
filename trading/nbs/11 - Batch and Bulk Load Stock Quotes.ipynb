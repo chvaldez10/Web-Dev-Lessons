{
 "cells": [
  {
   "cell_type": "code",
   "execution_count": 1,
   "id": "e85ed483-d2ef-4920-a1b5-51dd0eddf4a6",
   "metadata": {},
   "outputs": [],
   "source": [
    "import setup\n",
    "setup.init_django()"
   ]
  },
  {
   "cell_type": "code",
   "execution_count": 2,
   "id": "da110c89-fc4d-4751-840b-2a95891c50bf",
   "metadata": {},
   "outputs": [],
   "source": [
    "import helpers.clients as helper_clients"
   ]
  },
  {
   "cell_type": "code",
   "execution_count": 10,
   "id": "15cec661-367b-45d0-a99d-919aaf786956",
   "metadata": {},
   "outputs": [
    {
     "name": "stdout",
     "output_type": "stream",
     "text": [
      "Syncing GOOG from 2024-09-28 to 2024-10-28\n"
     ]
    }
   ],
   "source": [
    "from datetime import datetime, timedelta\n",
    "days_ago = 60 # about 2 months\n",
    "days_end = 30 # about 1 month\n",
    "\n",
    "company_name = \"Google\"\n",
    "company_ticker = \"GOOG\"\n",
    "multiplier = 1\n",
    "\n",
    "now = datetime.now()\n",
    "from_date = (now - timedelta(days=days_ago)).strftime(\"%Y-%m-%d\")\n",
    "to_date = (now - timedelta(days=days_end)).strftime(\"%Y-%m-%d\")\n",
    "\n",
    "print(f\"Syncing {company_ticker} from {from_date} to {to_date}\")"
   ]
  },
  {
   "cell_type": "code",
   "execution_count": 11,
   "id": "ee0918d4-50a3-41f2-b00c-2c125ddeeeea",
   "metadata": {},
   "outputs": [
    {
     "name": "stdout",
     "output_type": "stream",
     "text": [
      "Fetching data from https://api.polygon.io/v2/aggs/ticker/GOOG/range/1/minute/2024-09-28/2024-10-28?adjusted=True&sort=asc&limit=50000\n"
     ]
    }
   ],
   "source": [
    "client = helper_clients.PolygonAPIClient(\n",
    "    ticker=company_ticker,\n",
    "    multiplier=multiplier,\n",
    "    from_date=from_date,\n",
    "    to_date=to_date\n",
    ")\n",
    "dataset = client.get_stock_data()"
   ]
  },
  {
   "cell_type": "code",
   "execution_count": 12,
   "id": "f3a86d92-c0ad-46ab-a59a-1f095ff6f316",
   "metadata": {},
   "outputs": [
    {
     "data": {
      "text/plain": [
       "12005"
      ]
     },
     "execution_count": 12,
     "metadata": {},
     "output_type": "execute_result"
    }
   ],
   "source": [
    "len(dataset)"
   ]
  },
  {
   "cell_type": "code",
   "execution_count": 13,
   "id": "2de9b700-1002-480b-812d-6efd3c731ee8",
   "metadata": {},
   "outputs": [
    {
     "data": {
      "text/plain": [
       "{'open_price': 165.37,\n",
       " 'close_price': 165.4,\n",
       " 'high_price': 165.4,\n",
       " 'low_price': 165.37,\n",
       " 'number_of_trades': 23,\n",
       " 'volume': 489,\n",
       " 'volume_weighted_average': 165.3756,\n",
       " 'raw_timestamp': 1727683320000,\n",
       " 'time': datetime.datetime(2024, 9, 30, 8, 2, tzinfo=<UTC>)}"
      ]
     },
     "execution_count": 13,
     "metadata": {},
     "output_type": "execute_result"
    }
   ],
   "source": [
    "new_stock_data = dataset[0]\n",
    "new_stock_data"
   ]
  },
  {
   "cell_type": "code",
   "execution_count": 14,
   "id": "b141e54a-9f1e-4538-b7d6-a4ad6d047066",
   "metadata": {},
   "outputs": [],
   "source": [
    "from market.models import Company, StockQuote"
   ]
  },
  {
   "cell_type": "code",
   "execution_count": 15,
   "id": "265e2daa-3a3a-4670-83eb-a0779a98ab72",
   "metadata": {},
   "outputs": [],
   "source": [
    "company_obj, created = Company.objects.get_or_create(name=company_name, ticker=company_ticker)"
   ]
  },
  {
   "cell_type": "code",
   "execution_count": 16,
   "id": "d5f88267",
   "metadata": {},
   "outputs": [
    {
     "data": {
      "text/plain": [
       "<StockQuote: StockQuote object (110427)>"
      ]
     },
     "execution_count": 16,
     "metadata": {},
     "output_type": "execute_result"
    }
   ],
   "source": [
    "StockQuote.objects.create(company=company_obj, **new_stock_data)"
   ]
  },
  {
   "cell_type": "code",
   "execution_count": 10,
   "id": "c781ee86-155e-4cb7-ab3c-383a7496e3be",
   "metadata": {},
   "outputs": [],
   "source": [
    "# StockQuote.objects.bulk_create([StockQuote(company=company_obj, **new_stock_data)])"
   ]
  },
  {
   "cell_type": "code",
   "execution_count": 11,
   "id": "0716fedc-726a-4f42-81f3-45c341f0b65e",
   "metadata": {},
   "outputs": [],
   "source": [
    "# new_quotes = []\n",
    "\n",
    "# for data in dataset:\n",
    "#     new_quotes.append(\n",
    "#         StockQuote(company=company_obj, **data)\n",
    "#     )"
   ]
  },
  {
   "cell_type": "code",
   "execution_count": 18,
   "id": "a79a6b44-2ae0-41d2-ace4-2e9e4075754c",
   "metadata": {},
   "outputs": [],
   "source": [
    "batch_size = 1000\n",
    "for i in range(0, len(dataset), batch_size):\n",
    "    batch_chunk = dataset[i:i+batch_size]\n",
    "    chunked_quotes = []\n",
    "    for data in batch_chunk:\n",
    "        chunked_quotes.append(\n",
    "            StockQuote(company=company_obj, **data)\n",
    "        )\n",
    "    StockQuote.objects.bulk_create(chunked_quotes, ignore_conflicts=True)"
   ]
  },
  {
   "cell_type": "code",
   "execution_count": 19,
   "id": "9e151fb7-4adc-4f0a-9108-37253ede501a",
   "metadata": {},
   "outputs": [
    {
     "data": {
      "text/plain": [
       "12005"
      ]
     },
     "execution_count": 19,
     "metadata": {},
     "output_type": "execute_result"
    }
   ],
   "source": [
    "StockQuote.objects.all().count()"
   ]
  }
 ],
 "metadata": {
  "kernelspec": {
   "display_name": "Python 3 (ipykernel)",
   "language": "python",
   "name": "python3"
  },
  "language_info": {
   "codemirror_mode": {
    "name": "ipython",
    "version": 3
   },
   "file_extension": ".py",
   "mimetype": "text/x-python",
   "name": "python",
   "nbconvert_exporter": "python",
   "pygments_lexer": "ipython3",
   "version": "3.11.9"
  }
 },
 "nbformat": 4,
 "nbformat_minor": 5
}
